{
 "cells": [
  {
   "cell_type": "markdown",
   "metadata": {},
   "source": [
    "## for generating Kepler.gl map with config written down there."
   ]
  },
  {
   "cell_type": "code",
   "execution_count": 2,
   "metadata": {},
   "outputs": [],
   "source": [
    "\n",
    "import os\n",
    "os.environ['USE_PYGEOS'] = '0'\n",
    "import geopandas as gpd\n",
    "import pandas as pd\n",
    "\n",
    "from keplergl import KeplerGl"
   ]
  },
  {
   "cell_type": "code",
   "execution_count": 3,
   "metadata": {},
   "outputs": [],
   "source": [
    "\n",
    "#map_1 = KeplerGl(height=400)\n",
    "#map_1\n"
   ]
  },
  {
   "cell_type": "code",
   "execution_count": null,
   "metadata": {},
   "outputs": [],
   "source": []
  },
  {
   "cell_type": "code",
   "execution_count": null,
   "metadata": {},
   "outputs": [],
   "source": []
  },
  {
   "cell_type": "code",
   "execution_count": 4,
   "metadata": {
    "tags": []
   },
   "outputs": [
    {
     "data": {
      "text/html": [
       "<div>\n",
       "<style scoped>\n",
       "    .dataframe tbody tr th:only-of-type {\n",
       "        vertical-align: middle;\n",
       "    }\n",
       "\n",
       "    .dataframe tbody tr th {\n",
       "        vertical-align: top;\n",
       "    }\n",
       "\n",
       "    .dataframe thead th {\n",
       "        text-align: right;\n",
       "    }\n",
       "</style>\n",
       "<table border=\"1\" class=\"dataframe\">\n",
       "  <thead>\n",
       "    <tr style=\"text-align: right;\">\n",
       "      <th></th>\n",
       "      <th>month</th>\n",
       "      <th>town</th>\n",
       "      <th>flat_type</th>\n",
       "      <th>block</th>\n",
       "      <th>street_name</th>\n",
       "      <th>storey_range</th>\n",
       "      <th>floor_area_sqm</th>\n",
       "      <th>flat_model</th>\n",
       "      <th>lease_commence_date</th>\n",
       "      <th>resale_price</th>\n",
       "      <th>...</th>\n",
       "      <th>resale_month</th>\n",
       "      <th>resale_age</th>\n",
       "      <th>ADDRESS</th>\n",
       "      <th>LAT</th>\n",
       "      <th>LNG</th>\n",
       "      <th>X</th>\n",
       "      <th>Y</th>\n",
       "      <th>POSTAL</th>\n",
       "      <th>floor_area_sqft</th>\n",
       "      <th>geometry</th>\n",
       "    </tr>\n",
       "  </thead>\n",
       "  <tbody>\n",
       "    <tr>\n",
       "      <th>0</th>\n",
       "      <td>2024-01</td>\n",
       "      <td>ANG MO KIO</td>\n",
       "      <td>2 ROOM</td>\n",
       "      <td>116</td>\n",
       "      <td>ANG MO KIO AVE 4</td>\n",
       "      <td>07 TO 09</td>\n",
       "      <td>44.0</td>\n",
       "      <td>Improved</td>\n",
       "      <td>1978</td>\n",
       "      <td>288000.0</td>\n",
       "      <td>...</td>\n",
       "      <td>1</td>\n",
       "      <td>46</td>\n",
       "      <td>116 ANG MO KIO AVE 4</td>\n",
       "      <td>1.373346</td>\n",
       "      <td>103.836459</td>\n",
       "      <td>28349.529081</td>\n",
       "      <td>39483.177631</td>\n",
       "      <td>560116</td>\n",
       "      <td>473.616</td>\n",
       "      <td>POINT (103.83646 1.37335)</td>\n",
       "    </tr>\n",
       "    <tr>\n",
       "      <th>1</th>\n",
       "      <td>2024-01</td>\n",
       "      <td>ANG MO KIO</td>\n",
       "      <td>2 ROOM</td>\n",
       "      <td>510</td>\n",
       "      <td>ANG MO KIO AVE 8</td>\n",
       "      <td>04 TO 06</td>\n",
       "      <td>44.0</td>\n",
       "      <td>Improved</td>\n",
       "      <td>1980</td>\n",
       "      <td>322500.0</td>\n",
       "      <td>...</td>\n",
       "      <td>1</td>\n",
       "      <td>44</td>\n",
       "      <td>510 ANG MO KIO AVE 8</td>\n",
       "      <td>1.373401</td>\n",
       "      <td>103.849073</td>\n",
       "      <td>29753.300929</td>\n",
       "      <td>39489.217940</td>\n",
       "      <td>560510</td>\n",
       "      <td>473.616</td>\n",
       "      <td>POINT (103.84907 1.37340)</td>\n",
       "    </tr>\n",
       "    <tr>\n",
       "      <th>2</th>\n",
       "      <td>2024-01</td>\n",
       "      <td>ANG MO KIO</td>\n",
       "      <td>3 ROOM</td>\n",
       "      <td>308B</td>\n",
       "      <td>ANG MO KIO AVE 1</td>\n",
       "      <td>01 TO 03</td>\n",
       "      <td>70.0</td>\n",
       "      <td>Model A</td>\n",
       "      <td>2012</td>\n",
       "      <td>520000.0</td>\n",
       "      <td>...</td>\n",
       "      <td>1</td>\n",
       "      <td>12</td>\n",
       "      <td>308B ANG MO KIO AVE 1</td>\n",
       "      <td>1.365266</td>\n",
       "      <td>103.844538</td>\n",
       "      <td>29248.594650</td>\n",
       "      <td>38589.712063</td>\n",
       "      <td>562308</td>\n",
       "      <td>753.480</td>\n",
       "      <td>POINT (103.84454 1.36527)</td>\n",
       "    </tr>\n",
       "    <tr>\n",
       "      <th>3</th>\n",
       "      <td>2024-01</td>\n",
       "      <td>ANG MO KIO</td>\n",
       "      <td>3 ROOM</td>\n",
       "      <td>308B</td>\n",
       "      <td>ANG MO KIO AVE 1</td>\n",
       "      <td>25 TO 27</td>\n",
       "      <td>70.0</td>\n",
       "      <td>Model A</td>\n",
       "      <td>2012</td>\n",
       "      <td>650000.0</td>\n",
       "      <td>...</td>\n",
       "      <td>1</td>\n",
       "      <td>12</td>\n",
       "      <td>308B ANG MO KIO AVE 1</td>\n",
       "      <td>1.365266</td>\n",
       "      <td>103.844538</td>\n",
       "      <td>29248.594650</td>\n",
       "      <td>38589.712063</td>\n",
       "      <td>562308</td>\n",
       "      <td>753.480</td>\n",
       "      <td>POINT (103.84454 1.36527)</td>\n",
       "    </tr>\n",
       "    <tr>\n",
       "      <th>4</th>\n",
       "      <td>2024-01</td>\n",
       "      <td>ANG MO KIO</td>\n",
       "      <td>3 ROOM</td>\n",
       "      <td>223</td>\n",
       "      <td>ANG MO KIO AVE 1</td>\n",
       "      <td>04 TO 06</td>\n",
       "      <td>67.0</td>\n",
       "      <td>New Generation</td>\n",
       "      <td>1978</td>\n",
       "      <td>343800.0</td>\n",
       "      <td>...</td>\n",
       "      <td>1</td>\n",
       "      <td>46</td>\n",
       "      <td>223 ANG MO KIO AVE 1</td>\n",
       "      <td>1.366048</td>\n",
       "      <td>103.838123</td>\n",
       "      <td>28534.643227</td>\n",
       "      <td>38676.172861</td>\n",
       "      <td>560223</td>\n",
       "      <td>721.188</td>\n",
       "      <td>POINT (103.83812 1.36605)</td>\n",
       "    </tr>\n",
       "  </tbody>\n",
       "</table>\n",
       "<p>5 rows × 21 columns</p>\n",
       "</div>"
      ],
      "text/plain": [
       "     month        town flat_type block       street_name storey_range  \\\n",
       "0  2024-01  ANG MO KIO    2 ROOM   116  ANG MO KIO AVE 4     07 TO 09   \n",
       "1  2024-01  ANG MO KIO    2 ROOM   510  ANG MO KIO AVE 8     04 TO 06   \n",
       "2  2024-01  ANG MO KIO    3 ROOM  308B  ANG MO KIO AVE 1     01 TO 03   \n",
       "3  2024-01  ANG MO KIO    3 ROOM  308B  ANG MO KIO AVE 1     25 TO 27   \n",
       "4  2024-01  ANG MO KIO    3 ROOM   223  ANG MO KIO AVE 1     04 TO 06   \n",
       "\n",
       "   floor_area_sqm      flat_model  lease_commence_date  resale_price  ...  \\\n",
       "0            44.0        Improved                 1978      288000.0  ...   \n",
       "1            44.0        Improved                 1980      322500.0  ...   \n",
       "2            70.0         Model A                 2012      520000.0  ...   \n",
       "3            70.0         Model A                 2012      650000.0  ...   \n",
       "4            67.0  New Generation                 1978      343800.0  ...   \n",
       "\n",
       "   resale_month  resale_age                ADDRESS       LAT         LNG  \\\n",
       "0             1          46   116 ANG MO KIO AVE 4  1.373346  103.836459   \n",
       "1             1          44   510 ANG MO KIO AVE 8  1.373401  103.849073   \n",
       "2             1          12  308B ANG MO KIO AVE 1  1.365266  103.844538   \n",
       "3             1          12  308B ANG MO KIO AVE 1  1.365266  103.844538   \n",
       "4             1          46   223 ANG MO KIO AVE 1  1.366048  103.838123   \n",
       "\n",
       "              X             Y  POSTAL floor_area_sqft  \\\n",
       "0  28349.529081  39483.177631  560116         473.616   \n",
       "1  29753.300929  39489.217940  560510         473.616   \n",
       "2  29248.594650  38589.712063  562308         753.480   \n",
       "3  29248.594650  38589.712063  562308         753.480   \n",
       "4  28534.643227  38676.172861  560223         721.188   \n",
       "\n",
       "                    geometry  \n",
       "0  POINT (103.83646 1.37335)  \n",
       "1  POINT (103.84907 1.37340)  \n",
       "2  POINT (103.84454 1.36527)  \n",
       "3  POINT (103.84454 1.36527)  \n",
       "4  POINT (103.83812 1.36605)  \n",
       "\n",
       "[5 rows x 21 columns]"
      ]
     },
     "execution_count": 4,
     "metadata": {},
     "output_type": "execute_result"
    }
   ],
   "source": [
    "yr = 2024\n",
    "gdf = gpd.read_file('geojson/year{}.geojson'.format(yr))\n",
    "gdf.head()"
   ]
  },
  {
   "cell_type": "code",
   "execution_count": 5,
   "metadata": {
    "tags": []
   },
   "outputs": [
    {
     "data": {
      "text/plain": [
       "<Axes: >"
      ]
     },
     "execution_count": 5,
     "metadata": {},
     "output_type": "execute_result"
    },
    {
     "data": {
      "image/png": "[encoded data removed]",
      "text/plain": [
       "<Figure size 640x480 with 1 Axes>"
      ]
     },
     "metadata": {},
     "output_type": "display_data"
    }
   ],
   "source": [
    "gdf.plot()"
   ]
  },
  {
   "cell_type": "code",
   "execution_count": null,
   "metadata": {},
   "outputs": [],
   "source": []
  },
  {
   "cell_type": "code",
   "execution_count": null,
   "metadata": {},
   "outputs": [],
   "source": []
  },
  {
   "cell_type": "code",
   "execution_count": 6,
   "metadata": {
    "tags": []
   },
   "outputs": [],
   "source": [
    "config2 = {'version': 'v1',\n",
    " 'config': {'visState': {'filters': [{'dataId': ['hdb_data'],\n",
    "     'id': '1qlpe8lw9',\n",
    "     'name': ['resale_price'],\n",
    "     'type': 'range',\n",
    "     'value': [230000, 700000],\n",
    "     'enlarged': False,\n",
    "     'plotType': 'histogram',\n",
    "     'animationWindow': 'free',\n",
    "     'yAxis': None,\n",
    "     'speed': 1},\n",
    "    {'dataId': ['hdb_data'],\n",
    "     'id': 'ix0g7uckp',\n",
    "     'name': ['flat_type'],\n",
    "     'type': 'multiSelect',\n",
    "     'value': ['4 ROOM', '5 ROOM'],\n",
    "     'enlarged': False,\n",
    "     'plotType': 'histogram',\n",
    "     'animationWindow': 'free',\n",
    "     'yAxis': None,\n",
    "     'speed': 1},\n",
    "    {'dataId': ['hdb_data'],\n",
    "     'id': 'sqfzqosou',\n",
    "     'name': ['lease_commence_date'],\n",
    "     'type': 'range',\n",
    "     'value': [2004, 2022],\n",
    "     'enlarged': False,\n",
    "     'plotType': 'histogram',\n",
    "     'animationWindow': 'free',\n",
    "     'yAxis': None,\n",
    "     'speed': 1}],\n",
    "   'layers': [{'id': 'zma6ar6',\n",
    "     'type': 'point',\n",
    "     'config': {'dataId': 'hdb_data',\n",
    "      'label': 'hdb_data',\n",
    "      'color': [221, 178, 124],\n",
    "      'highlightColor': [252, 242, 26, 255],\n",
    "      'columns': {'lat': 'LAT', 'lng': 'LNG', 'altitude': None},\n",
    "      'isVisible': True,\n",
    "      'visConfig': {'radius': 10,\n",
    "       'fixedRadius': False,\n",
    "       'opacity': 0.8,\n",
    "       'outline': False,\n",
    "       'thickness': 0.5,\n",
    "       'strokeColor': None,\n",
    "       'colorRange': {'name': 'ColorBrewer YlOrRd-6',\n",
    "        'type': 'sequential',\n",
    "        'category': 'ColorBrewer',\n",
    "        'colors': ['#ffffb2',\n",
    "         '#fed976',\n",
    "         '#feb24c',\n",
    "         '#fd8d3c',\n",
    "         '#f03b20',\n",
    "         '#bd0026']},\n",
    "       'strokeColorRange': {'name': 'Global Warming',\n",
    "        'type': 'sequential',\n",
    "        'category': 'Uber',\n",
    "        'colors': ['#5A1846',\n",
    "         '#900C3F',\n",
    "         '#C70039',\n",
    "         '#E3611C',\n",
    "         '#F1920E',\n",
    "         '#FFC300']},\n",
    "       'radiusRange': [5, 50],\n",
    "       'filled': True},\n",
    "      'hidden': False,\n",
    "      'textLabel': [{'field': None,\n",
    "        'color': [255, 255, 255],\n",
    "        'size': 12,\n",
    "        'offset': [0, 0],\n",
    "        'anchor': 'middle',\n",
    "        'alignment': 'center'}]},\n",
    "     'visualChannels': {'colorField': {'name': 'resale_price',\n",
    "       'type': 'integer'},\n",
    "      'colorScale': 'quantile',\n",
    "      'strokeColorField': None,\n",
    "      'strokeColorScale': 'quantile',\n",
    "      'sizeField': {'name': 'resale_price', 'type': 'integer'},\n",
    "      'sizeScale': 'sqrt'}}],\n",
    "   'interactionConfig': {'tooltip': {'fieldsToShow': {'hdb_data': [{'name': 'month',\n",
    "        'format': None},\n",
    "       {'name': 'town', 'format': None},\n",
    "       {'name': 'flat_type', 'format': None},\n",
    "       {'name': 'block', 'format': None},\n",
    "       {'name': 'street_name', 'format': None},\n",
    "       {'name': 'lease_commence_date', 'format': None},\n",
    "       {'name': 'floor_area_sqft', 'format': None},\n",
    "       {'name': 'resale_price', 'format': None}]},\n",
    "     'compareMode': False,\n",
    "     'compareType': 'absolute',\n",
    "     'enabled': True},\n",
    "    'brush': {'size': 0.5, 'enabled': False},\n",
    "    'geocoder': {'enabled': False},\n",
    "    'coordinate': {'enabled': False}},\n",
    "   'layerBlending': 'normal',\n",
    "   'splitMaps': [],\n",
    "   'animationConfig': {'currentTime': None, 'speed': 1}},\n",
    "  'mapState': {'bearing': 0,\n",
    "   'dragRotate': False,\n",
    "   'latitude': 1.3572495952620591,\n",
    "   'longitude': 103.82481415097773,\n",
    "   'pitch': 0,\n",
    "   'zoom': 11.798363099815887,\n",
    "   'isSplit': False},\n",
    "  'mapStyle': {'styleType': 'dark',\n",
    "   'topLayerGroups': {},\n",
    "   'visibleLayerGroups': {'label': True,\n",
    "    'road': True,\n",
    "    'building': True,\n",
    "    'water': True,\n",
    "    'land': True},\n",
    "   'threeDBuildingColor': [194.6103322548211,\n",
    "    191.81688250953655,\n",
    "    185.2988331038727],\n",
    "   'mapStyles': {}\n",
    "              }}}"
   ]
  },
  {
   "cell_type": "code",
   "execution_count": 7,
   "metadata": {
    "tags": []
   },
   "outputs": [
    {
     "name": "stdout",
     "output_type": "stream",
     "text": [
      "User Guide: https://docs.kepler.gl/docs/keplergl-jupyter\n"
     ]
    },
    {
     "data": {
      "application/vnd.jupyter.widget-view+json": {
       "model_id": "34b52356f2774e608893385029c29f8f",
       "version_major": 2,
       "version_minor": 0
      },
      "text/plain": [
       "KeplerGl(config={'version': 'v1', 'config': {'visState': {'filters': [{'dataId': ['hdb_data'], 'id': '1qlpe8lw…"
      ]
     },
     "metadata": {},
     "output_type": "display_data"
    }
   ],
   "source": [
    "\n",
    "map_2 = KeplerGl(height=800, data={'hdb_data': gdf}, config=config2)\n",
    "map_2"
   ]
  },
  {
   "cell_type": "code",
   "execution_count": 8,
   "metadata": {
    "tags": []
   },
   "outputs": [
    {
     "name": "stdout",
     "output_type": "stream",
     "text": [
      "Map saved to docs/hdb_map_filter.html!\n"
     ]
    }
   ],
   "source": [
    "\n",
    "map_2.save_to_html(file_name='docs/hdb_map_filter.html')"
   ]
  },
  {
   "cell_type": "code",
   "execution_count": null,
   "metadata": {},
   "outputs": [],
   "source": []
  },
  {
   "cell_type": "code",
   "execution_count": null,
   "metadata": {},
   "outputs": [],
   "source": []
  },
  {
   "cell_type": "code",
   "execution_count": null,
   "metadata": {},
   "outputs": [],
   "source": []
  },
  {
   "cell_type": "code",
   "execution_count": null,
   "metadata": {},
   "outputs": [],
   "source": []
  },
  {
   "cell_type": "code",
   "execution_count": null,
   "metadata": {},
   "outputs": [],
   "source": []
  }
 ],
 "metadata": {
  "kernelspec": {
   "display_name": "Python 3 (ipykernel)",
   "language": "python",
   "name": "python3"
  },
  "language_info": {
   "codemirror_mode": {
    "name": "ipython",
    "version": 3
   },
   "file_extension": ".py",
   "mimetype": "text/x-python",
   "name": "python",
   "nbconvert_exporter": "python",
   "pygments_lexer": "ipython3",
   "version": "3.9.19"
  }
 },
 "nbformat": 4,
 "nbformat_minor": 4
}
